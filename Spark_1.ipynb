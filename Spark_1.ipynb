{
  "nbformat": 4,
  "nbformat_minor": 0,
  "metadata": {
    "colab": {
      "provenance": [],
      "authorship_tag": "ABX9TyPflzvJk5LBGEa6Hkccpb1M",
      "include_colab_link": true
    },
    "kernelspec": {
      "name": "python3",
      "display_name": "Python 3"
    },
    "language_info": {
      "name": "python"
    }
  },
  "cells": [
    {
      "cell_type": "markdown",
      "metadata": {
        "id": "view-in-github",
        "colab_type": "text"
      },
      "source": [
        "<a href=\"https://colab.research.google.com/github/AdityaDhuri/PySpark/blob/main/Spark_1.ipynb\" target=\"_parent\"><img src=\"https://colab.research.google.com/assets/colab-badge.svg\" alt=\"Open In Colab\"/></a>"
      ]
    },
    {
      "cell_type": "code",
      "source": [
        "pip install pyspark"
      ],
      "metadata": {
        "id": "9EJuChybHF6z"
      },
      "execution_count": null,
      "outputs": []
    },
    {
      "cell_type": "code",
      "source": [
        "from pyspark.sql import SparkSession\n",
        "from pyspark.sql.types import StructType,StructField,StringType,IntegerType"
      ],
      "metadata": {
        "id": "poIXuvESOxjK"
      },
      "execution_count": 3,
      "outputs": []
    },
    {
      "cell_type": "code",
      "source": [
        "spark = SparkSession.builder.appName(\"DataFrame\").getOrCreate()"
      ],
      "metadata": {
        "id": "BI6bj6gYHKZw"
      },
      "execution_count": 4,
      "outputs": []
    },
    {
      "cell_type": "markdown",
      "source": [
        "#Reading a CSV\n"
      ],
      "metadata": {
        "id": "qe-i4gnyKq3j"
      }
    },
    {
      "cell_type": "code",
      "source": [
        "df = spark.read.option(\"header\",\"true\").csv(\"/content/Virat_Kohli_ODI.csv\",inferSchema=True)"
      ],
      "metadata": {
        "id": "nQFzU6kLHkM4"
      },
      "execution_count": 5,
      "outputs": []
    },
    {
      "cell_type": "code",
      "source": [
        "df.show(5)"
      ],
      "metadata": {
        "colab": {
          "base_uri": "https://localhost:8080/"
        },
        "id": "Gzn7FXIBIQqQ",
        "outputId": "c92f2013-0174-4fde-b6e2-1cb3d9ee1176"
      },
      "execution_count": 17,
      "outputs": [
        {
          "output_type": "stream",
          "name": "stdout",
          "text": [
            "+----+---+------+\n",
            "|Name|Age|Gender|\n",
            "+----+---+------+\n",
            "|  AD| 24|     M|\n",
            "|  AN| 24|     F|\n",
            "+----+---+------+\n",
            "\n"
          ]
        }
      ]
    },
    {
      "cell_type": "markdown",
      "source": [
        "#Creating a DataFrame with schema and adding values"
      ],
      "metadata": {
        "id": "65NxeTouKwHH"
      }
    },
    {
      "cell_type": "code",
      "source": [
        "schema = StructType([\n",
        "    StructField(\"Name\",StringType(),True),\n",
        "    StructField(\"Age\",IntegerType(),True),\n",
        "    StructField(\"Gender\",StringType(),True)\n",
        "])"
      ],
      "metadata": {
        "id": "3fHZ1m3KIVi4"
      },
      "execution_count": 13,
      "outputs": []
    },
    {
      "cell_type": "code",
      "source": [
        "data = [(\"AD\",24,\"M\"),\n",
        "          (\"AN\",24,\"F\")]"
      ],
      "metadata": {
        "id": "aViuk4BpI0HM"
      },
      "execution_count": 14,
      "outputs": []
    },
    {
      "cell_type": "code",
      "source": [
        "df = spark.createDataFrame(data,schema=schema)"
      ],
      "metadata": {
        "id": "_vEZOSZvJGDF"
      },
      "execution_count": 15,
      "outputs": []
    },
    {
      "cell_type": "code",
      "source": [
        "df.show(2)"
      ],
      "metadata": {
        "colab": {
          "base_uri": "https://localhost:8080/"
        },
        "id": "a1KwHZ20JUnf",
        "outputId": "8632a314-cca3-4b25-f09d-ba0cd7f668be"
      },
      "execution_count": 16,
      "outputs": [
        {
          "output_type": "stream",
          "name": "stdout",
          "text": [
            "+----+---+------+\n",
            "|Name|Age|Gender|\n",
            "+----+---+------+\n",
            "|  AD| 24|     M|\n",
            "|  AN| 24|     F|\n",
            "+----+---+------+\n",
            "\n"
          ]
        }
      ]
    },
    {
      "cell_type": "code",
      "source": [
        "df.select([\"Name\",\"Gender\"]).show()"
      ],
      "metadata": {
        "colab": {
          "base_uri": "https://localhost:8080/"
        },
        "id": "X48R5uftJ1eD",
        "outputId": "d86785e8-4c11-41a4-8523-c602d599d5e8"
      },
      "execution_count": 18,
      "outputs": [
        {
          "output_type": "stream",
          "name": "stdout",
          "text": [
            "+----+------+\n",
            "|Name|Gender|\n",
            "+----+------+\n",
            "|  AD|     M|\n",
            "|  AN|     F|\n",
            "+----+------+\n",
            "\n"
          ]
        }
      ]
    },
    {
      "cell_type": "code",
      "source": [
        "df.printSchema()"
      ],
      "metadata": {
        "colab": {
          "base_uri": "https://localhost:8080/"
        },
        "id": "qnenm834KEyH",
        "outputId": "1f7f7af3-8d43-4277-dc5d-1380290a43a4"
      },
      "execution_count": 19,
      "outputs": [
        {
          "output_type": "stream",
          "name": "stdout",
          "text": [
            "root\n",
            " |-- Name: string (nullable = true)\n",
            " |-- Age: integer (nullable = true)\n",
            " |-- Gender: string (nullable = true)\n",
            "\n"
          ]
        }
      ]
    },
    {
      "cell_type": "code",
      "source": [
        "df.describe().show()"
      ],
      "metadata": {
        "colab": {
          "base_uri": "https://localhost:8080/"
        },
        "id": "bwGBmfW2KPTu",
        "outputId": "a7167197-3f8f-4d4c-a218-2221a37d2d71"
      },
      "execution_count": 21,
      "outputs": [
        {
          "output_type": "stream",
          "name": "stdout",
          "text": [
            "+-------+----+----+------+\n",
            "|summary|Name| Age|Gender|\n",
            "+-------+----+----+------+\n",
            "|  count|   2|   2|     2|\n",
            "|   mean|null|24.0|  null|\n",
            "| stddev|null| 0.0|  null|\n",
            "|    min|  AD|  24|     F|\n",
            "|    max|  AN|  24|     M|\n",
            "+-------+----+----+------+\n",
            "\n"
          ]
        }
      ]
    },
    {
      "cell_type": "markdown",
      "source": [
        "#Adding new data to DataFrame"
      ],
      "metadata": {
        "id": "lCTtt-deMWcc"
      }
    },
    {
      "cell_type": "code",
      "source": [
        "add_data = [(\"ADI\",25,\"M\")]\n",
        "df2 = spark.createDataFrame(add_data,schema=schema)"
      ],
      "metadata": {
        "id": "gNuy3_ywKTQR"
      },
      "execution_count": 23,
      "outputs": []
    },
    {
      "cell_type": "code",
      "source": [
        "df3 = df.union(df2)\n",
        "df3.show()"
      ],
      "metadata": {
        "colab": {
          "base_uri": "https://localhost:8080/"
        },
        "id": "4seR0Zy2L6BW",
        "outputId": "db2c99c0-595e-495f-ed02-dce347ac8d96"
      },
      "execution_count": 24,
      "outputs": [
        {
          "output_type": "stream",
          "name": "stdout",
          "text": [
            "+----+---+------+\n",
            "|Name|Age|Gender|\n",
            "+----+---+------+\n",
            "|  AD| 24|     M|\n",
            "|  AN| 24|     F|\n",
            "| ADI| 25|     M|\n",
            "+----+---+------+\n",
            "\n"
          ]
        }
      ]
    },
    {
      "cell_type": "markdown",
      "source": [
        "#Join\n"
      ],
      "metadata": {
        "id": "x6u1yggZMitA"
      }
    },
    {
      "cell_type": "code",
      "source": [
        "data1 = [(\"Alice\", 25), (\"Bob\", 30), (\"Charlie\", 22)]\n",
        "data2 = [(\"Alice\", \"Engineer\"), (\"Bob\", \"Manager\"), (\"David\", \"Designer\")]\n",
        "\n",
        "#if a schema is not given it will give the data types to the column on its own\n",
        "df4 = spark.createDataFrame(data1, [\"name\",\"age\"])\n",
        "df5 = spark.createDataFrame(data2, [\"name\", \"occupation\"])\n"
      ],
      "metadata": {
        "id": "KqBhlIZCMKB1"
      },
      "execution_count": 30,
      "outputs": []
    },
    {
      "cell_type": "code",
      "source": [
        "df4.printSchema()"
      ],
      "metadata": {
        "colab": {
          "base_uri": "https://localhost:8080/"
        },
        "id": "KAOQIZYLMvE5",
        "outputId": "c48e8179-fd7b-4672-cd95-3bbeb6f2dfec"
      },
      "execution_count": 31,
      "outputs": [
        {
          "output_type": "stream",
          "name": "stdout",
          "text": [
            "root\n",
            " |-- name: string (nullable = true)\n",
            " |-- age: long (nullable = true)\n",
            "\n"
          ]
        }
      ]
    },
    {
      "cell_type": "code",
      "source": [
        "#As we see above the age is taken long we can cast it into integer\n",
        "df4 = df4.withColumn(\"age\", df4[\"age\"].cast(\"integer\"))\n",
        "df4.printSchema()"
      ],
      "metadata": {
        "colab": {
          "base_uri": "https://localhost:8080/"
        },
        "id": "hw9Yv4w-MzWP",
        "outputId": "7f9062ab-14f0-4220-d314-eaed10d2d756"
      },
      "execution_count": 32,
      "outputs": [
        {
          "output_type": "stream",
          "name": "stdout",
          "text": [
            "root\n",
            " |-- name: string (nullable = true)\n",
            " |-- age: integer (nullable = true)\n",
            "\n"
          ]
        }
      ]
    },
    {
      "cell_type": "code",
      "source": [
        "joining = df4.join(df5,on=\"name\",how=\"inner\")\n",
        "joining.show()"
      ],
      "metadata": {
        "colab": {
          "base_uri": "https://localhost:8080/"
        },
        "id": "GtLkQkgxOtU0",
        "outputId": "04610f80-289d-4495-ea30-6fa9777669e6"
      },
      "execution_count": 33,
      "outputs": [
        {
          "output_type": "stream",
          "name": "stdout",
          "text": [
            "+-----+---+----------+\n",
            "| name|age|occupation|\n",
            "+-----+---+----------+\n",
            "|Alice| 25|  Engineer|\n",
            "|  Bob| 30|   Manager|\n",
            "+-----+---+----------+\n",
            "\n"
          ]
        }
      ]
    },
    {
      "cell_type": "markdown",
      "source": [
        "## GroupBy"
      ],
      "metadata": {
        "id": "2Z-9sp6pPn61"
      }
    },
    {
      "cell_type": "code",
      "source": [
        "groupby_data = [(\"Alice\", \"Engineer\", 2500),\n",
        "        (\"Bob\", \"Manager\", 3500),\n",
        "        (\"Alice\", \"Designer\", 2800),\n",
        "        (\"Bob\", \"Engineer\", 3200),\n",
        "        (\"David\", \"Manager\", 4000)]\n",
        "\n",
        "\n",
        "groupby_df = spark.createDataFrame(groupby_data, [\"name\", \"occupation\", \"salary\"])\n",
        "groupby_df.show()\n",
        "groupby_df.printSchema()"
      ],
      "metadata": {
        "colab": {
          "base_uri": "https://localhost:8080/"
        },
        "id": "DXmhOKtVPTex",
        "outputId": "cf9df05e-d308-4367-9b62-b59978f5938d"
      },
      "execution_count": 34,
      "outputs": [
        {
          "output_type": "stream",
          "name": "stdout",
          "text": [
            "+-----+----------+------+\n",
            "| name|occupation|salary|\n",
            "+-----+----------+------+\n",
            "|Alice|  Engineer|  2500|\n",
            "|  Bob|   Manager|  3500|\n",
            "|Alice|  Designer|  2800|\n",
            "|  Bob|  Engineer|  3200|\n",
            "|David|   Manager|  4000|\n",
            "+-----+----------+------+\n",
            "\n",
            "root\n",
            " |-- name: string (nullable = true)\n",
            " |-- occupation: string (nullable = true)\n",
            " |-- salary: long (nullable = true)\n",
            "\n"
          ]
        }
      ]
    },
    {
      "cell_type": "code",
      "source": [
        "groupby_df_data = groupby_df.groupBy(\"name\",\"occupation\")\n"
      ],
      "metadata": {
        "id": "biYN62WJQbyg"
      },
      "execution_count": 46,
      "outputs": []
    },
    {
      "cell_type": "code",
      "source": [
        "groupby_df_data_on_salary = groupby_df_data.agg({\"salary\":\"sum\"})\n",
        "groupby_df_data_on_salary.show()"
      ],
      "metadata": {
        "colab": {
          "base_uri": "https://localhost:8080/"
        },
        "id": "-tk13uvuQ3WQ",
        "outputId": "97e90fca-2c6f-4a2b-b001-240ad807324c"
      },
      "execution_count": 45,
      "outputs": [
        {
          "output_type": "stream",
          "name": "stdout",
          "text": [
            "+-----+-----------+\n",
            "| name|sum(salary)|\n",
            "+-----+-----------+\n",
            "|  Bob|       6700|\n",
            "|Alice|       5300|\n",
            "|David|       4000|\n",
            "+-----+-----------+\n",
            "\n"
          ]
        }
      ]
    },
    {
      "cell_type": "code",
      "source": [
        "groupby_df.filter((groupby_df[\"occupation\"]==\"Engineer\") & (groupby_df[\"salary\"]>=2500)).show()"
      ],
      "metadata": {
        "colab": {
          "base_uri": "https://localhost:8080/"
        },
        "id": "t5POvzmrRZa_",
        "outputId": "92fbbafe-86d7-477f-88dc-d1d7d8f1cb6e"
      },
      "execution_count": 51,
      "outputs": [
        {
          "output_type": "stream",
          "name": "stdout",
          "text": [
            "+-----+----------+------+\n",
            "| name|occupation|salary|\n",
            "+-----+----------+------+\n",
            "|Alice|  Engineer|  2500|\n",
            "|  Bob|  Engineer|  3200|\n",
            "+-----+----------+------+\n",
            "\n"
          ]
        }
      ]
    },
    {
      "cell_type": "code",
      "source": [],
      "metadata": {
        "id": "HjCJW5PGVnOi"
      },
      "execution_count": null,
      "outputs": []
    }
  ]
}